{
 "cells": [
  {
   "cell_type": "markdown",
   "id": "b89c0b33-145d-41bf-910b-db0ed24bd315",
   "metadata": {},
   "source": [
    "## Functions"
   ]
  },
  {
   "cell_type": "code",
   "execution_count": 1,
   "id": "70baff5b-bf5a-400b-8070-1463b0096b6f",
   "metadata": {},
   "outputs": [
    {
     "name": "stdout",
     "output_type": "stream",
     "text": [
      "hello this my first program\n"
     ]
    }
   ],
   "source": [
    "print(\"hello this my first program\")"
   ]
  },
  {
   "cell_type": "code",
   "execution_count": 2,
   "id": "186690d5-bc1e-44bc-b00c-aa6e0a19476a",
   "metadata": {},
   "outputs": [
    {
     "data": {
      "text/plain": [
       "5"
      ]
     },
     "execution_count": 2,
     "metadata": {},
     "output_type": "execute_result"
    }
   ],
   "source": [
    "l=[1,2,3,4,5]\n",
    "len(l)"
   ]
  },
  {
   "cell_type": "code",
   "execution_count": null,
   "id": "051d8a4d-f3b1-49be-ac03-b59989d0939c",
   "metadata": {},
   "outputs": [],
   "source": [
    "## they all are in built function"
   ]
  },
  {
   "cell_type": "code",
   "execution_count": 5,
   "id": "4256376e-bd1f-44c6-bb3f-5f28526a3c18",
   "metadata": {},
   "outputs": [],
   "source": [
    "# for creating own function then use \n",
    "def test():\n",
    "    pass\n"
   ]
  },
  {
   "cell_type": "code",
   "execution_count": 7,
   "id": "9387131c-7084-418b-ae85-f11b71a3a487",
   "metadata": {},
   "outputs": [],
   "source": [
    "def test1():\n",
    "     print(\"This is first function of mine\")"
   ]
  },
  {
   "cell_type": "code",
   "execution_count": 8,
   "id": "13c1e112-277d-449e-b39d-97feafdc204f",
   "metadata": {},
   "outputs": [
    {
     "name": "stdout",
     "output_type": "stream",
     "text": [
      "This is first function of mine\n"
     ]
    }
   ],
   "source": [
    "test1()"
   ]
  },
  {
   "cell_type": "code",
   "execution_count": 9,
   "id": "e273e111-e21a-45d0-877e-7ab3bc1db1d6",
   "metadata": {},
   "outputs": [
    {
     "name": "stdout",
     "output_type": "stream",
     "text": [
      "This is first function of mine\n"
     ]
    },
    {
     "ename": "TypeError",
     "evalue": "unsupported operand type(s) for +: 'NoneType' and 'str'",
     "output_type": "error",
     "traceback": [
      "\u001b[0;31m---------------------------------------------------------------------------\u001b[0m",
      "\u001b[0;31mTypeError\u001b[0m                                 Traceback (most recent call last)",
      "Cell \u001b[0;32mIn[9], line 1\u001b[0m\n\u001b[0;32m----> 1\u001b[0m \u001b[43mtest1\u001b[49m\u001b[43m(\u001b[49m\u001b[43m)\u001b[49m\u001b[43m \u001b[49m\u001b[38;5;241;43m+\u001b[39;49m\u001b[43m \u001b[49m\u001b[38;5;124;43m\"\u001b[39;49m\u001b[38;5;124;43mManjot\u001b[39;49m\u001b[38;5;124;43m\"\u001b[39;49m\n",
      "\u001b[0;31mTypeError\u001b[0m: unsupported operand type(s) for +: 'NoneType' and 'str'"
     ]
    }
   ],
   "source": [
    "test1() + \"Manjot\""
   ]
  },
  {
   "cell_type": "code",
   "execution_count": 14,
   "id": "7600c313-f1ed-4123-b6bb-ea25be867bb3",
   "metadata": {},
   "outputs": [],
   "source": [
    "## print is not type to concatenate like this you have to use return \n",
    "def test2():\n",
    "    return \"This is my first function with return \""
   ]
  },
  {
   "cell_type": "code",
   "execution_count": 15,
   "id": "db98a520-6a2b-4323-864e-4775159ae55d",
   "metadata": {},
   "outputs": [
    {
     "data": {
      "text/plain": [
       "'This is my first function with return Manjot'"
      ]
     },
     "execution_count": 15,
     "metadata": {},
     "output_type": "execute_result"
    }
   ],
   "source": [
    "test2()+ \"Manjot\""
   ]
  },
  {
   "cell_type": "code",
   "execution_count": 6,
   "id": "6f7f2711-1c06-4e8b-bbba-1a5fede7fb05",
   "metadata": {},
   "outputs": [],
   "source": [
    "## return can get multiple return from an function\n",
    "def test3():\n",
    "     return 1,4,\" Pw skills \",34.56"
   ]
  },
  {
   "cell_type": "code",
   "execution_count": 7,
   "id": "1589d477-34ff-4d73-9ea4-f6bc60e4dcd3",
   "metadata": {},
   "outputs": [
    {
     "data": {
      "text/plain": [
       "(1, 4, ' Pw skills ', 34.56)"
      ]
     },
     "execution_count": 7,
     "metadata": {},
     "output_type": "execute_result"
    }
   ],
   "source": [
    "test3()"
   ]
  },
  {
   "cell_type": "code",
   "execution_count": 22,
   "id": "eea9683d-ec8e-4888-bf67-52ec21535da9",
   "metadata": {},
   "outputs": [],
   "source": [
    "a=1,2,3,4"
   ]
  },
  {
   "cell_type": "code",
   "execution_count": 23,
   "id": "61876e63-85e9-4e0e-b336-eddc0953151a",
   "metadata": {},
   "outputs": [
    {
     "data": {
      "text/plain": [
       "(1, 2, 3, 4)"
      ]
     },
     "execution_count": 23,
     "metadata": {},
     "output_type": "execute_result"
    }
   ],
   "source": [
    "a"
   ]
  },
  {
   "cell_type": "code",
   "execution_count": 24,
   "id": "2bd56091-7c0e-4038-9413-f770893d89cd",
   "metadata": {},
   "outputs": [],
   "source": [
    "## same this in return\n",
    "a,b,c,d=1,2,34.56,True"
   ]
  },
  {
   "cell_type": "code",
   "execution_count": 25,
   "id": "2d2d56fe-ed01-4b59-9e5d-dd3c29ef0c56",
   "metadata": {},
   "outputs": [
    {
     "data": {
      "text/plain": [
       "True"
      ]
     },
     "execution_count": 25,
     "metadata": {},
     "output_type": "execute_result"
    }
   ],
   "source": [
    "d"
   ]
  },
  {
   "cell_type": "code",
   "execution_count": 8,
   "id": "865cf314-c0a3-425c-b6dc-46aa287b9f72",
   "metadata": {},
   "outputs": [
    {
     "data": {
      "text/plain": [
       "(1, 4, ' Pw skills ', 34.56)"
      ]
     },
     "execution_count": 8,
     "metadata": {},
     "output_type": "execute_result"
    }
   ],
   "source": [
    "test3()"
   ]
  },
  {
   "cell_type": "code",
   "execution_count": 5,
   "id": "b5293e2b-ecca-48a2-aafe-b2ad348cccd8",
   "metadata": {},
   "outputs": [],
   "source": [
    "def test3():\n",
    "     return 1,4,\" Pw skills \",34.56"
   ]
  },
  {
   "cell_type": "code",
   "execution_count": 6,
   "id": "9c60e19a-21db-4524-bda0-a1087129a4b0",
   "metadata": {},
   "outputs": [
    {
     "data": {
      "text/plain": [
       "(1, 4, ' Pw skills ', 34.56)"
      ]
     },
     "execution_count": 6,
     "metadata": {},
     "output_type": "execute_result"
    }
   ],
   "source": [
    "test3()"
   ]
  },
  {
   "cell_type": "code",
   "execution_count": 7,
   "id": "eb84611e-f36e-40f3-921e-39a8479a0182",
   "metadata": {},
   "outputs": [
    {
     "data": {
      "text/plain": [
       "' Pw skills '"
      ]
     },
     "execution_count": 7,
     "metadata": {},
     "output_type": "execute_result"
    }
   ],
   "source": [
    "test3()[2]"
   ]
  },
  {
   "cell_type": "code",
   "execution_count": 8,
   "id": "6241d211-c002-4363-b9aa-3b52d2f47782",
   "metadata": {},
   "outputs": [
    {
     "data": {
      "text/plain": [
       "(1, 4, ' Pw skills ', 34.56)"
      ]
     },
     "execution_count": 8,
     "metadata": {},
     "output_type": "execute_result"
    }
   ],
   "source": [
    "# you can also assign function in return with more than one value of return to different different varibales\n",
    "test3()"
   ]
  },
  {
   "cell_type": "code",
   "execution_count": 10,
   "id": "ee2319e0-513d-4791-8be0-79c0f9608933",
   "metadata": {},
   "outputs": [],
   "source": [
    "a,b,c,d=test3()"
   ]
  },
  {
   "cell_type": "code",
   "execution_count": 11,
   "id": "d0a102f5-0079-442c-8a00-cb0c2afbd3a0",
   "metadata": {},
   "outputs": [
    {
     "data": {
      "text/plain": [
       "1"
      ]
     },
     "execution_count": 11,
     "metadata": {},
     "output_type": "execute_result"
    }
   ],
   "source": [
    "a"
   ]
  },
  {
   "cell_type": "code",
   "execution_count": 12,
   "id": "12a8ed63-929c-42c0-bf62-858375e02097",
   "metadata": {},
   "outputs": [
    {
     "data": {
      "text/plain": [
       "' Pw skills '"
      ]
     },
     "execution_count": 12,
     "metadata": {},
     "output_type": "execute_result"
    }
   ],
   "source": [
    "c"
   ]
  },
  {
   "cell_type": "code",
   "execution_count": 13,
   "id": "8d22945b-8097-4700-ae4d-3cce405feb26",
   "metadata": {},
   "outputs": [],
   "source": [
    "# now performing different operation and logic inside the the function just take care of indentation"
   ]
  },
  {
   "cell_type": "code",
   "execution_count": 16,
   "id": "017703cb-688d-4fe3-bd31-2ac96d663106",
   "metadata": {},
   "outputs": [],
   "source": [
    "def test4():\n",
    "    a=3*4+5\n",
    "    return a"
   ]
  },
  {
   "cell_type": "code",
   "execution_count": 17,
   "id": "09a248ac-f456-468b-a333-0335dbd51d22",
   "metadata": {},
   "outputs": [
    {
     "data": {
      "text/plain": [
       "17"
      ]
     },
     "execution_count": 17,
     "metadata": {},
     "output_type": "execute_result"
    }
   ],
   "source": [
    "test4()"
   ]
  },
  {
   "cell_type": "code",
   "execution_count": 18,
   "id": "c55ab6a2-284d-444e-9931-e3e934226916",
   "metadata": {},
   "outputs": [
    {
     "data": {
      "text/plain": [
       "int"
      ]
     },
     "execution_count": 18,
     "metadata": {},
     "output_type": "execute_result"
    }
   ],
   "source": [
    "type(test4())"
   ]
  },
  {
   "cell_type": "code",
   "execution_count": 22,
   "id": "79814e33-46ae-40b6-beaa-561760d955f9",
   "metadata": {},
   "outputs": [],
   "source": [
    "def test5(a,b): ## passing the function argument \n",
    "    c=a+b\n",
    "    return c"
   ]
  },
  {
   "cell_type": "code",
   "execution_count": 23,
   "id": "69b84bc7-c11c-4f00-a2c3-3aec9879e8f7",
   "metadata": {},
   "outputs": [
    {
     "data": {
      "text/plain": [
       "20"
      ]
     },
     "execution_count": 23,
     "metadata": {},
     "output_type": "execute_result"
    }
   ],
   "source": [
    "test5(10,10)  ## calling the function argument "
   ]
  },
  {
   "cell_type": "code",
   "execution_count": 24,
   "id": "0fb93223-73d3-431e-852a-d547a67db487",
   "metadata": {},
   "outputs": [
    {
     "data": {
      "text/plain": [
       "'manjot'"
      ]
     },
     "execution_count": 24,
     "metadata": {},
     "output_type": "execute_result"
    }
   ],
   "source": [
    "test5(\"man\",\"jot\") ## it will also concatenate strings"
   ]
  },
  {
   "cell_type": "code",
   "execution_count": 25,
   "id": "9636be75-ae39-440d-95e1-055586b5a79e",
   "metadata": {},
   "outputs": [
    {
     "data": {
      "text/plain": [
       "[1, 2, 3, 4, 5, 4, 5, 6, 7, 8]"
      ]
     },
     "execution_count": 25,
     "metadata": {},
     "output_type": "execute_result"
    }
   ],
   "source": [
    "test5([1,2,3,4,5],[4,5,6,7,8]) # list also concatenate"
   ]
  },
  {
   "cell_type": "code",
   "execution_count": 2,
   "id": "e2d60f19-f185-492e-bd31-8edd9aa18635",
   "metadata": {},
   "outputs": [],
   "source": [
    "def test5(a,b): ## passing the function argument \n",
    "    c=a+b\n",
    "    return c"
   ]
  },
  {
   "cell_type": "code",
   "execution_count": 3,
   "id": "e0ecce66-d1b1-4583-8a58-7c5bb3133cb4",
   "metadata": {},
   "outputs": [
    {
     "data": {
      "text/plain": [
       "'jotman'"
      ]
     },
     "execution_count": 3,
     "metadata": {},
     "output_type": "execute_result"
    }
   ],
   "source": [
    "## how to reverse pass in function \n",
    "test5(b=\"man\",a=\"jot\")"
   ]
  },
  {
   "cell_type": "code",
   "execution_count": 3,
   "id": "eabff0a3-b586-4372-b034-2268ec3a65ad",
   "metadata": {},
   "outputs": [],
   "source": [
    "l=[1,2,3,4,5,\"manj\",\"pw\",[1,2,34,5,5,3]]\n",
    "# make a function where I have to filtre out all the numberic value"
   ]
  },
  {
   "cell_type": "code",
   "execution_count": 19,
   "id": "201b4bb2-eac8-4831-b437-cd464da6eb0a",
   "metadata": {},
   "outputs": [],
   "source": [
    "def test6(a):\n",
    "    n=[]\n",
    "    for i in a:\n",
    "        if type(i)==int or type(i)==float:\n",
    "            n.append(i)\n",
    "       \n",
    "    return n"
   ]
  },
  {
   "cell_type": "code",
   "execution_count": 20,
   "id": "a769c10c-ef1a-4f02-961b-ef6683f388c0",
   "metadata": {},
   "outputs": [
    {
     "data": {
      "text/plain": [
       "[1, 2, 3, 4, 5]"
      ]
     },
     "execution_count": 20,
     "metadata": {},
     "output_type": "execute_result"
    }
   ],
   "source": [
    "test6(l)"
   ]
  },
  {
   "cell_type": "code",
   "execution_count": 5,
   "id": "01523df6-8cb9-487c-8ae5-d90fe58cad5f",
   "metadata": {},
   "outputs": [],
   "source": [
    "# make a prime number function as your homework for this do it"
   ]
  },
  {
   "cell_type": "code",
   "execution_count": 5,
   "id": "971c3ad1-12c2-404e-afb5-5c3d153e491c",
   "metadata": {},
   "outputs": [
    {
     "data": {
      "text/plain": [
       "[1, 2, 3, 4, 5, 6, 'strings', 'chd', 34.5, [99, 100, 101, 102]]"
      ]
     },
     "execution_count": 5,
     "metadata": {},
     "output_type": "execute_result"
    }
   ],
   "source": [
    "list_1=[1,2,3,4,5,6,\"strings\",\"chd\",34.5,[99,100,101,102]]\n",
    "list_1"
   ]
  },
  {
   "cell_type": "code",
   "execution_count": 10,
   "id": "11357b77-e3e2-488d-9dab-1674b984a688",
   "metadata": {},
   "outputs": [],
   "source": [
    "def test8(a):\n",
    "    n=[]\n",
    "    s=[]\n",
    "    for i in a:\n",
    "        if type(i)== int or type(i)==float:\n",
    "            n.append(i)\n",
    "        elif  type(i)==str:\n",
    "            s.append(i)\n",
    "            \n",
    "        \n",
    "    return n,s\n",
    "          "
   ]
  },
  {
   "cell_type": "code",
   "execution_count": 11,
   "id": "17a270f7-8f31-4500-bb72-0b4c6125fddb",
   "metadata": {},
   "outputs": [
    {
     "data": {
      "text/plain": [
       "([1, 2, 3, 4, 5, 6, 34.5], ['strings', 'chd'])"
      ]
     },
     "execution_count": 11,
     "metadata": {},
     "output_type": "execute_result"
    }
   ],
   "source": [
    "test8(list_1)"
   ]
  },
  {
   "cell_type": "code",
   "execution_count": 19,
   "id": "e7fbec06-c428-4ce6-ac80-aacd61b715a7",
   "metadata": {},
   "outputs": [
    {
     "data": {
      "text/plain": [
       "[1, 2, 3.6, 4, 5, 6.64, 7, 8.765, 9, 10.6]"
      ]
     },
     "execution_count": 19,
     "metadata": {},
     "output_type": "execute_result"
    }
   ],
   "source": [
    "# make a prime number function as your homework for this do it\n",
    "lst=[1,2,3.6,4,5,6.64,7,8.765,9,10.6]\n",
    "lst"
   ]
  },
  {
   "cell_type": "code",
   "execution_count": 20,
   "id": "000b2dd0-15ad-4cc8-9b66-5ee55d5bf65a",
   "metadata": {},
   "outputs": [],
   "source": [
    "def test(a):\n",
    "    n=[]\n",
    "    for i in a:\n",
    "        if type(i)==float:\n",
    "            n.append(i)\n",
    "    return n"
   ]
  },
  {
   "cell_type": "code",
   "execution_count": 68,
   "id": "55ca0342-2359-4548-b8ba-eab516cef982",
   "metadata": {},
   "outputs": [
    {
     "data": {
      "text/plain": [
       "[3.6, 6.64, 8.765, 10.6]"
      ]
     },
     "execution_count": 68,
     "metadata": {},
     "output_type": "execute_result"
    }
   ],
   "source": [
    "test(lst)"
   ]
  },
  {
   "cell_type": "code",
   "execution_count": 41,
   "id": "1630e98e-dcbe-4cf8-8629-df9e5e3a0ed8",
   "metadata": {},
   "outputs": [
    {
     "data": {
      "text/plain": [
       "[1, 2, 3, 4, 5, 5.5, 'hello', 'bye', [6, 7, 8, 9, 9.8, 'string']]"
      ]
     },
     "execution_count": 41,
     "metadata": {},
     "output_type": "execute_result"
    }
   ],
   "source": [
    "## nested loop\n",
    "new_list=[1,2,3,4,5,5.5,\"hello\",\"bye\",[6,7,8,9,9.8,\"string\"]]\n",
    "new_list"
   ]
  },
  {
   "cell_type": "code",
   "execution_count": 81,
   "id": "761be033-9246-4db8-9e2f-34175f335f36",
   "metadata": {},
   "outputs": [],
   "source": [
    "#nested list\n",
    "def test11(a):\n",
    "    n=[]\n",
    "    for i in a:\n",
    "        if type(i)==list:\n",
    "        for j in i:\n",
    "            if (type)"
   ]
  },
  {
   "cell_type": "code",
   "execution_count": 82,
   "id": "e1de467e-bc8a-4c03-8d7e-de202670c6fa",
   "metadata": {},
   "outputs": [
    {
     "data": {
      "text/plain": [
       "[1, 2, 3, 4, 5, 5.5]"
      ]
     },
     "execution_count": 82,
     "metadata": {},
     "output_type": "execute_result"
    }
   ],
   "source": [
    "test11(new_list)"
   ]
  },
  {
   "cell_type": "code",
   "execution_count": 1,
   "id": "25aca2d7-798c-4ed6-abca-36c31de85628",
   "metadata": {},
   "outputs": [],
   "source": [
    "## for multiple arguments:\n",
    "def new(a,b,c,d,e):\n",
    "    return"
   ]
  },
  {
   "cell_type": "code",
   "execution_count": 2,
   "id": "bb950b36-5a14-4429-97bf-f33d2622aa20",
   "metadata": {},
   "outputs": [],
   "source": [
    "new(1,2,3,4,5)"
   ]
  },
  {
   "cell_type": "code",
   "execution_count": 3,
   "id": "af222181-4cb3-461e-9340-55c96dae898c",
   "metadata": {},
   "outputs": [
    {
     "ename": "TypeError",
     "evalue": "new() takes 5 positional arguments but 6 were given",
     "output_type": "error",
     "traceback": [
      "\u001b[0;31m---------------------------------------------------------------------------\u001b[0m",
      "\u001b[0;31mTypeError\u001b[0m                                 Traceback (most recent call last)",
      "Cell \u001b[0;32mIn[3], line 2\u001b[0m\n\u001b[1;32m      1\u001b[0m \u001b[38;5;66;03m## but what if i enter more then 5 arguments let's try it out\u001b[39;00m\n\u001b[0;32m----> 2\u001b[0m \u001b[43mnew\u001b[49m\u001b[43m(\u001b[49m\u001b[38;5;241;43m1\u001b[39;49m\u001b[43m,\u001b[49m\u001b[38;5;241;43m2\u001b[39;49m\u001b[43m,\u001b[49m\u001b[38;5;241;43m3\u001b[39;49m\u001b[43m,\u001b[49m\u001b[38;5;241;43m4\u001b[39;49m\u001b[43m,\u001b[49m\u001b[38;5;241;43m5\u001b[39;49m\u001b[43m,\u001b[49m\u001b[38;5;241;43m6\u001b[39;49m\u001b[43m)\u001b[49m\n",
      "\u001b[0;31mTypeError\u001b[0m: new() takes 5 positional arguments but 6 were given"
     ]
    }
   ],
   "source": [
    "## but what if i enter more then 5 arguments let's try it out\n",
    "new(1,2,3,4,5,6)"
   ]
  },
  {
   "cell_type": "code",
   "execution_count": 6,
   "id": "296fab11-0014-477e-b6d6-d5d5e927626d",
   "metadata": {},
   "outputs": [],
   "source": [
    "## it will not accept \n",
    "## so here is a solution for multiple values * args\n",
    "## *args you can store multiple values and multiple forms of values in it like dictionary,set,tuple,list etc\n",
    "def new1(*args):\n",
    "    return args"
   ]
  },
  {
   "cell_type": "code",
   "execution_count": 7,
   "id": "2b9e3408-dce8-4a5f-b52f-75ae2625c5e7",
   "metadata": {},
   "outputs": [
    {
     "data": {
      "text/plain": [
       "(1,\n",
       " 2,\n",
       " 3,\n",
       " 4,\n",
       " 5,\n",
       " {1, 2, 3, 4},\n",
       " [4, 849202, 483, 9292],\n",
       " 8.884,\n",
       " {'key': 'value'},\n",
       " (2, 3, 'jot'))"
      ]
     },
     "execution_count": 7,
     "metadata": {},
     "output_type": "execute_result"
    }
   ],
   "source": [
    "new1(1,2,3,4,5,{1,2,3,4},[4,849202,483,9292],8.884,{\"key\":\"value\"},(2,3,\"jot\"))"
   ]
  },
  {
   "cell_type": "code",
   "execution_count": null,
   "id": "183b3999-197f-401d-8f47-396b0de0fe2e",
   "metadata": {},
   "outputs": [],
   "source": [
    "## yes, wow it can store multiple forms and values at one time great "
   ]
  },
  {
   "cell_type": "code",
   "execution_count": 8,
   "id": "d568500f-1e80-4740-add8-8f45bb85708c",
   "metadata": {},
   "outputs": [],
   "source": [
    "## now,here is a suprise it can also use your name with * jot try it\n",
    "\n",
    "def new2(*jot):\n",
    "    return new2"
   ]
  },
  {
   "cell_type": "code",
   "execution_count": 10,
   "id": "46a4721e-32c9-44ea-933c-525b39d3c806",
   "metadata": {},
   "outputs": [],
   "source": [
    "new2=(1,True,{1,2,3,4,5},[2,4,3,2,3],{\"key\":\"value\"},\"shre\",\"jot\",8.994)"
   ]
  },
  {
   "cell_type": "code",
   "execution_count": 13,
   "id": "b64fbb83-33b2-4647-a15b-eda3ba451c4b",
   "metadata": {},
   "outputs": [
    {
     "data": {
      "text/plain": [
       "(1,\n",
       " True,\n",
       " {1, 2, 3, 4, 5},\n",
       " [2, 4, 3, 2, 3],\n",
       " {'key': 'value'},\n",
       " 'shre',\n",
       " 'jot',\n",
       " 8.994)"
      ]
     },
     "execution_count": 13,
     "metadata": {},
     "output_type": "execute_result"
    }
   ],
   "source": [
    "new2"
   ]
  },
  {
   "cell_type": "code",
   "execution_count": 28,
   "id": "dc3e2dc2-9a2f-4c29-8101-1649f9deeae5",
   "metadata": {},
   "outputs": [],
   "source": [
    "def test4(*args,a):\n",
    "     return args,a"
   ]
  },
  {
   "cell_type": "code",
   "execution_count": 17,
   "id": "e2590a40-4609-4718-94ac-7cc3cd74a149",
   "metadata": {},
   "outputs": [
    {
     "ename": "TypeError",
     "evalue": "test4() missing 1 required keyword-only argument: 'a'",
     "output_type": "error",
     "traceback": [
      "\u001b[0;31m---------------------------------------------------------------------------\u001b[0m",
      "\u001b[0;31mTypeError\u001b[0m                                 Traceback (most recent call last)",
      "Cell \u001b[0;32mIn[17], line 1\u001b[0m\n\u001b[0;32m----> 1\u001b[0m \u001b[43mtest4\u001b[49m\u001b[43m(\u001b[49m\u001b[38;5;241;43m1\u001b[39;49m\u001b[43m,\u001b[49m\u001b[38;5;241;43m2\u001b[39;49m\u001b[43m)\u001b[49m\n",
      "\u001b[0;31mTypeError\u001b[0m: test4() missing 1 required keyword-only argument: 'a'"
     ]
    }
   ],
   "source": [
    "test4(1,2)"
   ]
  },
  {
   "cell_type": "code",
   "execution_count": 30,
   "id": "5ac5d4b4-d058-484a-89c9-2f4f9bf3b164",
   "metadata": {},
   "outputs": [
    {
     "data": {
      "text/plain": [
       "((1, 2, 2, 3, 4), ['manj', 'kjd', (1, 23, 4)])"
      ]
     },
     "execution_count": 30,
     "metadata": {},
     "output_type": "execute_result"
    }
   ],
   "source": [
    "# so you have to enter atleast one more varible and also show that how to seperate it from *args\n",
    "test4(1,2,2,3,4,a=[\"manj\",\"kjd\",(1,23,4)])"
   ]
  },
  {
   "cell_type": "code",
   "execution_count": 36,
   "id": "4c55fc18-017e-4150-84d7-4421608dd7b5",
   "metadata": {},
   "outputs": [],
   "source": [
    "## now make a function with help of * args and give multiple value and forms of value extract list out of \n",
    "## and print it.\n",
    "\n",
    "def Test(*args):\n",
    "    l=[]\n",
    "    for i in args:\n",
    "          \n",
    "        if type(i)==list:\n",
    "            l.append(i)\n",
    "    return l"
   ]
  },
  {
   "cell_type": "code",
   "execution_count": 37,
   "id": "f85956a1-b9ae-4224-8b50-d44a2f043c5c",
   "metadata": {},
   "outputs": [
    {
     "data": {
      "text/plain": [
       "[[1, 'mah', 9.09, 'jo', True, 90], [5, 84, 894, 929]]"
      ]
     },
     "execution_count": 37,
     "metadata": {},
     "output_type": "execute_result"
    }
   ],
   "source": [
    "Test(1,2,3,4,[1,\"mah\",9.09,\"jo\",True,90],(1,2,3,[1,2,3]),[5,84,894,929])"
   ]
  },
  {
   "cell_type": "code",
   "execution_count": 52,
   "id": "61a7aa42-4427-49c2-bbf7-21f215a5ab66",
   "metadata": {},
   "outputs": [],
   "source": [
    "## yes yes , this program belongs to list in tuples \n",
    "## we cannot store list in sets\n",
    "def Test2(*args):\n",
    "    l2=[]\n",
    "    for i in args:\n",
    "        if type(i)==tuple:\n",
    "            for j in i:\n",
    "                if type(j)==list:\n",
    "                    l2.append(j)\n",
    "        \n",
    "        elif type(i)==list:\n",
    "              l2.append(i)\n",
    "    return l2"
   ]
  },
  {
   "cell_type": "code",
   "execution_count": 55,
   "id": "313a6c28-c06b-4a84-81e8-99aacf57baf6",
   "metadata": {},
   "outputs": [
    {
     "data": {
      "text/plain": [
       "[[1, 'mah', 9.09, 'jo', True, 90], ['list', 'in', 'tuple'], [5, 84, 894, 929]]"
      ]
     },
     "execution_count": 55,
     "metadata": {},
     "output_type": "execute_result"
    }
   ],
   "source": [
    "Test2(1,2,3,4,[1,\"mah\",9.09,\"jo\",True,90],(1,2,3,[\"list\",\"in\",\"tuple\"]),[5,84,894,929])"
   ]
  },
  {
   "cell_type": "code",
   "execution_count": 2,
   "id": "5e3ca7c8-f44a-4e39-a2ce-a6c3e4a79876",
   "metadata": {},
   "outputs": [],
   "source": [
    "## now we would like to store n number of key and value i.e dictionary here:\n",
    "## for this we use **kwargs means key word\n",
    "## here is a  example\n",
    "def testf(**kwargs):\n",
    "    return kwargs"
   ]
  },
  {
   "cell_type": "code",
   "execution_count": 3,
   "id": "5e390267-e449-431d-8db9-0aaef9f46e54",
   "metadata": {},
   "outputs": [
    {
     "data": {
      "text/plain": [
       "{}"
      ]
     },
     "execution_count": 3,
     "metadata": {},
     "output_type": "execute_result"
    }
   ],
   "source": [
    "testf()"
   ]
  },
  {
   "cell_type": "code",
   "execution_count": 4,
   "id": "9149dbf2-6566-456e-8587-2ad775d86270",
   "metadata": {},
   "outputs": [
    {
     "data": {
      "text/plain": [
       "dict"
      ]
     },
     "execution_count": 4,
     "metadata": {},
     "output_type": "execute_result"
    }
   ],
   "source": [
    "type(testf())"
   ]
  },
  {
   "cell_type": "code",
   "execution_count": 5,
   "id": "85c5a5fc-770a-4d88-9466-8025c7a6cb23",
   "metadata": {},
   "outputs": [
    {
     "data": {
      "text/plain": [
       "<function __main__.testf(**kwargs)>"
      ]
     },
     "execution_count": 5,
     "metadata": {},
     "output_type": "execute_result"
    }
   ],
   "source": [
    "testf"
   ]
  },
  {
   "cell_type": "code",
   "execution_count": 7,
   "id": "d0117967-2fcd-4b58-8af4-5d6ba300b8fa",
   "metadata": {},
   "outputs": [
    {
     "data": {
      "text/plain": [
       "{'a': 1, 'b': 23, 'c': [1, 2, 3], 'd': (1, 2, 3)}"
      ]
     },
     "execution_count": 7,
     "metadata": {},
     "output_type": "execute_result"
    }
   ],
   "source": [
    "testf(a=1, b=23, c=[1,2,3],d=(1,2,3))"
   ]
  },
  {
   "cell_type": "code",
   "execution_count": null,
   "id": "fb48c76a-0f2f-4785-82ef-cec5719c6939",
   "metadata": {},
   "outputs": [],
   "source": [
    "## now every data we have formed here is in form of key and value here"
   ]
  },
  {
   "cell_type": "markdown",
   "id": "ecc693b8-2d15-43a1-a639-e401c20d3e9c",
   "metadata": {},
   "source": [
    "## Generator function"
   ]
  },
  {
   "cell_type": "code",
   "execution_count": 1,
   "id": "b907305b-efa2-420e-8283-bf91d263c3b1",
   "metadata": {},
   "outputs": [
    {
     "data": {
      "text/plain": [
       "range(1, 10)"
      ]
     },
     "execution_count": 1,
     "metadata": {},
     "output_type": "execute_result"
    }
   ],
   "source": [
    "range(1,10)"
   ]
  },
  {
   "cell_type": "code",
   "execution_count": 3,
   "id": "d742ae1c-8c0e-4711-98d8-602b602d7135",
   "metadata": {},
   "outputs": [
    {
     "name": "stdout",
     "output_type": "stream",
     "text": [
      "1\n",
      "2\n",
      "3\n",
      "4\n",
      "5\n",
      "6\n",
      "7\n",
      "8\n",
      "9\n"
     ]
    }
   ],
   "source": [
    "for i in range(1,10):\n",
    "    print(i)"
   ]
  },
  {
   "cell_type": "code",
   "execution_count": 4,
   "id": "d4cbe9b0-ff84-4439-a55a-bbd9f90eff1c",
   "metadata": {},
   "outputs": [],
   "source": [
    "# make a fucntion to extract int out of the list:\n",
    "l=[1,2,3,4,5,6,7,8,\"man\"\"pw\"]"
   ]
  },
  {
   "cell_type": "code",
   "execution_count": 7,
   "id": "a6d0a104-05be-4afb-96ff-601e9451baf7",
   "metadata": {},
   "outputs": [],
   "source": [
    "def test1(a):\n",
    "    n=[]\n",
    "    for i in a:\n",
    "        if type(i)==int:\n",
    "            n.append(i)\n",
    "    return n"
   ]
  },
  {
   "cell_type": "code",
   "execution_count": 8,
   "id": "72b85a26-94eb-4ece-9a4d-d8661d3655e6",
   "metadata": {},
   "outputs": [
    {
     "data": {
      "text/plain": [
       "[1, 2, 3, 4, 5, 6, 7, 8]"
      ]
     },
     "execution_count": 8,
     "metadata": {},
     "output_type": "execute_result"
    }
   ],
   "source": [
    "test1(l)"
   ]
  },
  {
   "cell_type": "code",
   "execution_count": 33,
   "id": "62868a84-399f-478f-ac5c-69c1c5257154",
   "metadata": {},
   "outputs": [],
   "source": [
    "## now with help of generator create fib number without storing them in main memomry and it should produce result continue\n",
    "def test_fib(n):\n",
    "    a,b =1,1\n",
    "    for i in range(n):\n",
    "        yield a\n",
    "        a,b=b,a+b"
   ]
  },
  {
   "cell_type": "code",
   "execution_count": 34,
   "id": "685fc854-7606-4a4f-bfb4-6044109141b6",
   "metadata": {},
   "outputs": [
    {
     "data": {
      "text/plain": [
       "<generator object test_fib at 0x7f0c7c2840b0>"
      ]
     },
     "execution_count": 34,
     "metadata": {},
     "output_type": "execute_result"
    }
   ],
   "source": [
    "# now call the function\n",
    "test_fib(10)"
   ]
  },
  {
   "cell_type": "code",
   "execution_count": 35,
   "id": "68521296-023e-4d8b-b736-8b4b5685de4f",
   "metadata": {},
   "outputs": [
    {
     "name": "stdout",
     "output_type": "stream",
     "text": [
      "1\n",
      "1\n",
      "2\n",
      "3\n",
      "5\n",
      "8\n",
      "13\n",
      "21\n",
      "34\n",
      "55\n",
      "89\n"
     ]
    }
   ],
   "source": [
    "for i in test_fib(11):\n",
    "    print(i)"
   ]
  },
  {
   "cell_type": "code",
   "execution_count": null,
   "id": "96983caf-b48b-4f1b-9f9c-0c477ad49542",
   "metadata": {},
   "outputs": [],
   "source": []
  }
 ],
 "metadata": {
  "kernelspec": {
   "display_name": "Python 3 (ipykernel)",
   "language": "python",
   "name": "python3"
  },
  "language_info": {
   "codemirror_mode": {
    "name": "ipython",
    "version": 3
   },
   "file_extension": ".py",
   "mimetype": "text/x-python",
   "name": "python",
   "nbconvert_exporter": "python",
   "pygments_lexer": "ipython3",
   "version": "3.10.8"
  }
 },
 "nbformat": 4,
 "nbformat_minor": 5
}
